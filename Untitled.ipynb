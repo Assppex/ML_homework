{
 "cells": [
  {
   "cell_type": "code",
   "execution_count": null,
   "id": "29fe2400-8274-4d91-b637-89904144711a",
   "metadata": {},
   "outputs": [],
   "source": []
  },
  {
   "cell_type": "code",
   "execution_count": 10,
   "id": "5b9c3873-fa0a-4699-b81c-17a75e2c6e54",
   "metadata": {},
   "outputs": [
    {
     "ename": "AttributeError",
     "evalue": "module 'math' has no attribute 'round'",
     "output_type": "error",
     "traceback": [
      "\u001b[1;31m---------------------------------------------------------------------------\u001b[0m",
      "\u001b[1;31mAttributeError\u001b[0m                            Traceback (most recent call last)",
      "Cell \u001b[1;32mIn[10], line 6\u001b[0m\n\u001b[0;32m      4\u001b[0m     list_ \u001b[38;5;241m=\u001b[39m json\u001b[38;5;241m.\u001b[39mload(f)\n\u001b[0;32m      5\u001b[0m len_ \u001b[38;5;241m=\u001b[39m \u001b[38;5;28mlen\u001b[39m(list_)\n\u001b[1;32m----> 6\u001b[0m test_list \u001b[38;5;241m=\u001b[39m list_[:\u001b[43mmath\u001b[49m\u001b[38;5;241;43m.\u001b[39;49m\u001b[43mround\u001b[49m(\u001b[38;5;28mlen\u001b[39m\u001b[38;5;241m*\u001b[39m\u001b[38;5;241m0.3\u001b[39m)]\n\u001b[0;32m      7\u001b[0m learn_list \u001b[38;5;241m=\u001b[39m list_[math\u001b[38;5;241m.\u001b[39mround(\u001b[38;5;28mlen\u001b[39m\u001b[38;5;241m*\u001b[39m\u001b[38;5;241m0.3\u001b[39m) \u001b[38;5;241m+\u001b[39m \u001b[38;5;241m1\u001b[39m:]\n",
      "\u001b[1;31mAttributeError\u001b[0m: module 'math' has no attribute 'round'"
     ]
    }
   ],
   "source": [
    "\n",
    "\n"
   ]
  },
  {
   "cell_type": "code",
   "execution_count": null,
   "id": "ccf910df-1a52-4287-86dd-06c18931c7fd",
   "metadata": {},
   "outputs": [],
   "source": []
  }
 ],
 "metadata": {
  "kernelspec": {
   "display_name": "Python 3 (ipykernel)",
   "language": "python",
   "name": "python3"
  },
  "language_info": {
   "codemirror_mode": {
    "name": "ipython",
    "version": 3
   },
   "file_extension": ".py",
   "mimetype": "text/x-python",
   "name": "python",
   "nbconvert_exporter": "python",
   "pygments_lexer": "ipython3",
   "version": "3.11.4"
  }
 },
 "nbformat": 4,
 "nbformat_minor": 5
}
